{
  "cells": [
    {
      "cell_type": "markdown",
      "metadata": {
        "vscode": {
          "languageId": "raw"
        }
      },
      "source": [
        "# Stage 01: Problem Framing & Scoping\n",
        "**Project:** Turtle Trading Strategy Research  \n",
        "**Author:** Panwei Hu  \n",
        "**Date:** 2025-01-27\n",
        "\n",
        "## Research Question\n",
        "**Does Turtle Trading Still Work in Today's Markets?**\n",
        "\n",
        "We aim to determine whether the classic **Turtle Trading** (breakout trend-following) rules generate **robust, net-of-cost** excess returns in current markets. The core question: *Does a Donchian-channel breakout system with risk-based position sizing still deliver attractive risk-adjusted performance after realistic costs and modern competition, or has the edge been arbitraged away?*\n",
        "\n",
        "## Objectives\n",
        "- Define the research problem and success criteria\n",
        "- Establish stakeholder requirements and constraints  \n",
        "- Scope the analysis approach and methodology\n",
        "- Set up evaluation framework and decision criteria\n",
        "- Document assumptions, risks, and known unknowns\n"
      ]
    },
    {
      "cell_type": "code",
      "execution_count": 1,
      "metadata": {},
      "outputs": [
        {
          "name": "stdout",
          "output_type": "stream",
          "text": [
            "🐢 Turtle Trading Research Project\n",
            "Project Root: /Users/panweihu/Desktop/Desktop_m1/NYU_mfe/bootcamp/camp4/bootcamp_bill_panwei_hu/turtle_project\n",
            "Analysis Date: 2025-08-17\n",
            "✅ Environment setup complete\n"
          ]
        }
      ],
      "source": [
        "import pandas as pd\n",
        "import numpy as np\n",
        "import matplotlib.pyplot as plt\n",
        "import seaborn as sns\n",
        "from pathlib import Path\n",
        "import sys\n",
        "sys.path.append('../src')\n",
        "\n",
        "# Set up project paths\n",
        "PROJECT_ROOT = Path('..').resolve()\n",
        "print(f\"🐢 Turtle Trading Research Project\")\n",
        "print(f\"Project Root: {PROJECT_ROOT}\")\n",
        "print(f\"Analysis Date: 2025-08-17\")\n",
        "\n",
        "# Configure plotting\n",
        "plt.style.use('default')\n",
        "sns.set_palette(\"husl\")\n",
        "plt.rcParams['figure.figsize'] = (12, 8)\n",
        "\n",
        "print(\"✅ Environment setup complete\")\n"
      ]
    },
    {
      "cell_type": "markdown",
      "metadata": {
        "vscode": {
          "languageId": "raw"
        }
      },
      "source": [
        "## 1. Problem Statement & Context\n",
        "\n",
        "### Historical Context\n",
        "The **Turtle Trading** experiment was conducted by Richard Dennis and William Eckhardt in the 1980s to test whether trading could be taught. They trained a group of novices (the \"Turtles\") to follow a systematic trend-following approach based on:\n",
        "\n",
        "- **Donchian Channel Breakouts**: Enter long/short positions when price breaks above/below N-day highs/lows\n",
        "- **ATR-based Position Sizing**: Risk-based position sizing using Average True Range for volatility normalization  \n",
        "- **Multiple Timeframes**: Different breakout periods for entries (20-day) and exits (10-day)\n",
        "- **Risk Management**: Stop losses and position limits to control drawdowns\n",
        "\n",
        "### Modern Market Challenge\n",
        "Since the 1980s, financial markets have undergone significant changes:\n",
        "- **Increased Competition**: More systematic traders and algorithms\n",
        "- **Lower Transaction Costs**: But also potentially thinner edges\n",
        "- **Market Regime Changes**: QE, ZIRP, increased correlations during crises\n",
        "- **Asset Class Evolution**: ETFs providing liquid exposure to diverse markets\n",
        "\n",
        "### Research Motivation\n",
        "We need to determine if this classic approach still generates alpha in today's environment, accounting for realistic costs and competition.\n"
      ]
    },
    {
      "cell_type": "code",
      "execution_count": 2,
      "metadata": {},
      "outputs": [
        {
          "name": "stdout",
          "output_type": "stream",
          "text": [
            "🎯 Research Framework:\n",
            "Primary Question: Does Turtle Trading still work in modern markets?\n",
            "Hypothesis: Donchian breakout strategies can still generate positive risk-adjusted returns net of costs\n",
            "Time Horizon: 2000-2025 (25 years of data)\n",
            "\n",
            "Success Metrics:\n",
            "  • Sharpe Ratio ≥ 0.6 (recent 5 years)\n",
            "  • Maximum Drawdown ≤ 25%\n",
            "  • Correlation to equities < 0.3\n",
            "  • Positive returns net of realistic costs\n",
            "\n",
            "Decision Framework:\n",
            "  • GO: Strong risk-adjusted returns, low correlation, robust across regimes\n",
            "  • MODIFY: Edge exists but needs parameter tuning or capacity limits\n",
            "  • NO-GO: No significant alpha or excessive drawdowns net of costs\n",
            "\n",
            "✅ Research framework defined\n"
          ]
        }
      ],
      "source": [
        "# Define the core research framework\n",
        "research_framework = {\n",
        "    \"primary_question\": \"Does Turtle Trading still work in modern markets?\",\n",
        "    \"hypothesis\": \"Donchian breakout strategies can still generate positive risk-adjusted returns net of costs\",\n",
        "    \"time_horizon\": \"2000-2025 (25 years of data)\",\n",
        "    \"success_metrics\": [\n",
        "        \"Sharpe Ratio ≥ 0.6 (recent 5 years)\",\n",
        "        \"Maximum Drawdown ≤ 25%\", \n",
        "        \"Correlation to equities < 0.3\",\n",
        "        \"Positive returns net of realistic costs\"\n",
        "    ],\n",
        "    \"decision_framework\": {\n",
        "        \"GO\": \"Strong risk-adjusted returns, low correlation, robust across regimes\",\n",
        "        \"MODIFY\": \"Edge exists but needs parameter tuning or capacity limits\",\n",
        "        \"NO-GO\": \"No significant alpha or excessive drawdowns net of costs\"\n",
        "    }\n",
        "}\n",
        "\n",
        "print(\"🎯 Research Framework:\")\n",
        "for key, value in research_framework.items():\n",
        "    if isinstance(value, list):\n",
        "        print(f\"\\n{key.replace('_', ' ').title()}:\")\n",
        "        for item in value:\n",
        "            print(f\"  • {item}\")\n",
        "    elif isinstance(value, dict):\n",
        "        print(f\"\\n{key.replace('_', ' ').title()}:\")\n",
        "        for k, v in value.items():\n",
        "            print(f\"  • {k}: {v}\")\n",
        "    else:\n",
        "        print(f\"{key.replace('_', ' ').title()}: {value}\")\n",
        "\n",
        "print(\"\\n✅ Research framework defined\")\n"
      ]
    },
    {
      "cell_type": "markdown",
      "metadata": {
        "vscode": {
          "languageId": "raw"
        }
      },
      "source": [
        "## 2. Stakeholders & Use Cases\n",
        "\n",
        "### Primary Stakeholder\n",
        "**Portfolio Manager / Investment Decision Maker**\n",
        "- Needs: Clear GO/NO-GO recommendation for trend-following allocation\n",
        "- Timeline: 2-week research sprint + validation period\n",
        "- Risk tolerance: Conservative approach to new strategy adoption\n",
        "- Success criteria: Evidence of sustainable edge with controlled risk\n",
        "\n",
        "### Secondary Stakeholders\n",
        "**Quant Researcher (Implementation)**\n",
        "- Builds data pipeline, backtesting framework, robustness tests\n",
        "- Needs: Comprehensive analysis with parameter sensitivity\n",
        "- Deliverables: Code, results, documentation for reproducibility\n",
        "\n",
        "**Risk Manager (Validation)**  \n",
        "- Assesses portfolio impact, stress testing, correlation analysis\n",
        "- Needs: Drawdown analysis, tail risk assessment, regime breakdown\n",
        "- Focus: Integration with existing portfolio and risk budgets\n",
        "\n",
        "### Use Case Scenarios\n",
        "1. **Standalone Strategy**: Allocate 10-20% of portfolio to trend-following\n",
        "2. **Diversification Tool**: Add uncorrelated return stream to equity/bond portfolio  \n",
        "3. **Tactical Overlay**: Use for regime-aware position sizing or hedging\n"
      ]
    },
    {
      "cell_type": "code",
      "execution_count": 3,
      "metadata": {},
      "outputs": [
        {
          "name": "stdout",
          "output_type": "stream",
          "text": [
            "📊 Methodology Overview:\n",
            "\n",
            "Asset Universe: 18 instruments across 5 asset classes\n",
            "  • Equity Us: ['SPY', 'QQQ', 'IWM']\n",
            "  • Equity Intl: ['EFA', 'EEM', 'VEA']\n",
            "  • Fixed Income: ['TLT', 'IEF', 'LQD', 'HYG']\n",
            "  • Commodities: ['GLD', 'SLV', 'USO', 'UNG', 'DBA']\n",
            "  • Currencies: ['FXE', 'FXY', 'UUP']\n",
            "\n",
            "Core Strategy Components:\n",
            "  • Entry Signal: 20-day Donchian channel breakout\n",
            "  • Exit Signal: 10-day Donchian channel reversal or stop loss\n",
            "  • Position Sizing: ATR-based risk parity (1% risk per trade)\n",
            "  • Risk Management: 2% portfolio stop, 20% sector limits\n",
            "\n",
            "Evaluation Framework:\n",
            "  • Full Sample: 2000-2025 (if data available)\n",
            "  • Recent Focus: 2020-2025 (post-COVID market regime)\n",
            "  • Regime Analysis: ['2000-2007', '2008-2015', '2016-2019', '2020-2025']\n",
            "\n",
            "Benchmarks: ['SPY', '60/40 portfolio', 'Risk parity', 'Buy & Hold universe']\n",
            "\n",
            "✅ Methodology framework established\n"
          ]
        }
      ],
      "source": [
        "# Define asset universe and methodology approach\n",
        "methodology = {\n",
        "    \"asset_universe\": {\n",
        "        \"equity_us\": [\"SPY\", \"QQQ\", \"IWM\"],  # Large, Tech, Small Cap\n",
        "        \"equity_intl\": [\"EFA\", \"EEM\", \"VEA\"],  # Developed, Emerging, All-World  \n",
        "        \"fixed_income\": [\"TLT\", \"IEF\", \"LQD\", \"HYG\"],  # Treasury, IG Corp, HY\n",
        "        \"commodities\": [\"GLD\", \"SLV\", \"USO\", \"UNG\", \"DBA\"],  # Metals, Energy, Agri\n",
        "        \"currencies\": [\"FXE\", \"FXY\", \"UUP\"]  # Euro, Yen, USD Bull\n",
        "    },\n",
        "    \"core_strategy\": {\n",
        "        \"entry_signal\": \"20-day Donchian channel breakout\",\n",
        "        \"exit_signal\": \"10-day Donchian channel reversal or stop loss\",\n",
        "        \"position_sizing\": \"ATR-based risk parity (1% risk per trade)\",\n",
        "        \"risk_management\": \"2% portfolio stop, 20% sector limits\"\n",
        "    },\n",
        "    \"evaluation_periods\": {\n",
        "        \"full_sample\": \"2000-2025 (if data available)\",\n",
        "        \"recent_focus\": \"2020-2025 (post-COVID market regime)\",\n",
        "        \"regime_analysis\": [\"2000-2007\", \"2008-2015\", \"2016-2019\", \"2020-2025\"]\n",
        "    },\n",
        "    \"benchmarks\": [\"SPY\", \"60/40 portfolio\", \"Risk parity\", \"Buy & Hold universe\"]\n",
        "}\n",
        "\n",
        "print(\"📊 Methodology Overview:\")\n",
        "print(f\"\\nAsset Universe: {sum(len(v) for v in methodology['asset_universe'].values())} instruments across {len(methodology['asset_universe'])} asset classes\")\n",
        "\n",
        "for category, symbols in methodology['asset_universe'].items():\n",
        "    print(f\"  • {category.replace('_', ' ').title()}: {symbols}\")\n",
        "\n",
        "print(f\"\\nCore Strategy Components:\")\n",
        "for component, description in methodology['core_strategy'].items():\n",
        "    print(f\"  • {component.replace('_', ' ').title()}: {description}\")\n",
        "\n",
        "print(f\"\\nEvaluation Framework:\")\n",
        "for period, timeframe in methodology['evaluation_periods'].items():\n",
        "    print(f\"  • {period.replace('_', ' ').title()}: {timeframe}\")\n",
        "\n",
        "print(f\"\\nBenchmarks: {methodology['benchmarks']}\")\n",
        "print(\"\\n✅ Methodology framework established\")\n"
      ]
    },
    {
      "cell_type": "code",
      "execution_count": null,
      "metadata": {},
      "outputs": [],
      "source": []
    }
  ],
  "metadata": {
    "kernelspec": {
      "display_name": "mfe_bootcamp",
      "language": "python",
      "name": "python3"
    },
    "language_info": {
      "codemirror_mode": {
        "name": "ipython",
        "version": 3
      },
      "file_extension": ".py",
      "mimetype": "text/x-python",
      "name": "python",
      "nbconvert_exporter": "python",
      "pygments_lexer": "ipython3",
      "version": "3.11.13"
    }
  },
  "nbformat": 4,
  "nbformat_minor": 2
}
