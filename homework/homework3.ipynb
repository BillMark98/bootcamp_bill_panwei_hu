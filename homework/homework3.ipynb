{
  "cells": [
    {
      "cell_type": "markdown",
      "id": "5f8a9db6",
      "metadata": {},
      "source": [
        "Stage 03 — Python Fundamentals (Self-Contained Notebook-as-Script)\n",
        "\n",
        "This single file solves the assignment end-to-end.  \n",
        "You can:\n",
        "- **Run it as a script**: `python hw03_python_fundamentals.py`\n",
        "- **Or open in Jupyter/VS Code**: the `%%` cells act like notebook cells.\n",
        "\n",
        "What it does:\n",
        "\n",
        "1) NumPy operations + loop vs vectorization timing\n",
        "2) Load dataset from `data/starter_data.csv` (or auto-generate if missing)\n",
        "3) Inspect with `.info()` / `.head()`\n",
        "4) Summary stats via `.describe()`\n",
        "5) Groupby aggregation by `category` (if present)\n",
        "6) Save outputs to `data/processed/summary.csv` & `summary.json`\n",
        "7) Plot a simple figure to `figures/basic_plot.png`\n",
        "8) Define and use a reusable `get_summary_stats` function"
      ]
    },
    {
      "cell_type": "code",
      "execution_count": 1,
      "id": "e2464786",
      "metadata": {},
      "outputs": [],
      "source": [
        "from __future__ import annotations\n",
        "from pathlib import Path\n",
        "import timeit\n",
        "import numpy as np\n",
        "import pandas as pd\n",
        "import matplotlib.pyplot as plt\n"
      ]
    },
    {
      "cell_type": "code",
      "execution_count": 2,
      "metadata": {},
      "outputs": [
        {
          "name": "stdout",
          "output_type": "stream",
          "text": [
            "Project root: /Users/panweihu/Desktop/Desktop_m1/NYU_mfe/bootcamp/camp4/bootcamp_bill_panwei_hu/homework/turtle_project\n",
            "Data dir: /Users/panweihu/Desktop/Desktop_m1/NYU_mfe/bootcamp/camp4/bootcamp_bill_panwei_hu/homework/turtle_project/data\n",
            "Processed dir: /Users/panweihu/Desktop/Desktop_m1/NYU_mfe/bootcamp/camp4/bootcamp_bill_panwei_hu/homework/turtle_project/data/processed\n",
            "Figures dir: /Users/panweihu/Desktop/Desktop_m1/NYU_mfe/bootcamp/camp4/bootcamp_bill_panwei_hu/homework/turtle_project/figures\n"
          ]
        }
      ],
      "source": [
        "\n",
        "# Project paths\n",
        "CWD = Path.cwd()\n",
        "PROJECT_ROOT = CWD / \"turtle_project\"\n",
        "\n",
        "DATA_DIR = PROJECT_ROOT / \"data\"\n",
        "PROCESSED_DIR = DATA_DIR / \"processed\"\n",
        "FIG_DIR = PROJECT_ROOT / \"figures\"\n",
        "\n",
        "for p in [DATA_DIR, PROCESSED_DIR, FIG_DIR]:\n",
        "    p.mkdir(parents=True, exist_ok=True)\n",
        "\n",
        "print(\"Project root:\", PROJECT_ROOT)\n",
        "print(\"Data dir:\", DATA_DIR)\n",
        "print(\"Processed dir:\", PROCESSED_DIR)\n",
        "print(\"Figures dir:\", FIG_DIR)\n",
        "\n",
        "\n"
      ]
    },
    {
      "cell_type": "markdown",
      "id": "6166a795",
      "metadata": {},
      "source": [
        "## Numpy operations"
      ]
    },
    {
      "cell_type": "code",
      "execution_count": 3,
      "id": "8fff68e6",
      "metadata": {},
      "outputs": [
        {
          "name": "stdout",
          "output_type": "stream",
          "text": [
            "First 5 of arr: [1. 2. 3. 4. 5.]\n",
            "First 5 of arr_sq: [ 1.  4.  9. 16. 25.]\n",
            "First 5 of arr_scaled: [3.5 4.  4.5 5.  5.5]\n"
          ]
        }
      ],
      "source": [
        "\n",
        "# NumPy operations\n",
        "arr = np.arange(1, 100_001, dtype=float)  # 1..100000\n",
        "arr_sq = arr ** 2\n",
        "arr_scaled = 0.5 * arr + 3\n",
        "\n",
        "print(\"First 5 of arr:\", arr[:5])\n",
        "print(\"First 5 of arr_sq:\", arr_sq[:5])\n",
        "print(\"First 5 of arr_scaled:\", arr_scaled[:5])"
      ]
    },
    {
      "cell_type": "markdown",
      "id": "02b6ba13",
      "metadata": {},
      "source": [
        "## Compare loop vs vectorize solution"
      ]
    },
    {
      "cell_type": "code",
      "execution_count": 4,
      "id": "647a4f25",
      "metadata": {},
      "outputs": [
        {
          "name": "stdout",
          "output_type": "stream",
          "text": [
            "Loop time (5 runs):      0.7090s\n",
            "Vectorized time (5 runs): 0.0016s\n",
            "Approx speedup: 442.4x\n"
          ]
        }
      ],
      "source": [
        "# Timing\n",
        "setup_code = \"\"\"\n",
        "import numpy as np\n",
        "arr = np.arange(1, 100_001, dtype=float)\n",
        "\"\"\"\n",
        "loop_stmt = \"\"\"\n",
        "out = []\n",
        "for x in arr:\n",
        "    out.append(0.5 * x + 3)\n",
        "\"\"\"\n",
        "vector_stmt = \"\"\"\n",
        "out = 0.5 * arr + 3\n",
        "\"\"\"\n",
        "loop_time = timeit.timeit(loop_stmt, setup=setup_code, number=5)\n",
        "vec_time  = timeit.timeit(vector_stmt, setup=setup_code, number=5)\n",
        "print(f\"Loop time (5 runs):      {loop_time:.4f}s\")\n",
        "print(f\"Vectorized time (5 runs): {vec_time:.4f}s\")\n",
        "if vec_time > 0:\n",
        "    print(f\"Approx speedup: {loop_time/vec_time:.1f}x\")\n",
        "\n"
      ]
    },
    {
      "cell_type": "markdown",
      "id": "7c4205d5",
      "metadata": {},
      "source": [
        "## Loading data"
      ]
    },
    {
      "cell_type": "code",
      "execution_count": 5,
      "id": "9bd7892e",
      "metadata": {},
      "outputs": [
        {
          "name": "stdout",
          "output_type": "stream",
          "text": [
            "Using dataset: /Users/panweihu/Desktop/Desktop_m1/NYU_mfe/bootcamp/camp4/bootcamp_bill_panwei_hu/homework/turtle_project/data/starter_data.csv\n"
          ]
        },
        {
          "data": {
            "text/html": [
              "<div>\n",
              "<style scoped>\n",
              "    .dataframe tbody tr th:only-of-type {\n",
              "        vertical-align: middle;\n",
              "    }\n",
              "\n",
              "    .dataframe tbody tr th {\n",
              "        vertical-align: top;\n",
              "    }\n",
              "\n",
              "    .dataframe thead th {\n",
              "        text-align: right;\n",
              "    }\n",
              "</style>\n",
              "<table border=\"1\" class=\"dataframe\">\n",
              "  <thead>\n",
              "    <tr style=\"text-align: right;\">\n",
              "      <th></th>\n",
              "      <th>id</th>\n",
              "      <th>category</th>\n",
              "      <th>value</th>\n",
              "      <th>value2</th>\n",
              "      <th>date</th>\n",
              "    </tr>\n",
              "  </thead>\n",
              "  <tbody>\n",
              "    <tr>\n",
              "      <th>0</th>\n",
              "      <td>1</td>\n",
              "      <td>C</td>\n",
              "      <td>11.608</td>\n",
              "      <td>57.601</td>\n",
              "      <td>2023-01-01</td>\n",
              "    </tr>\n",
              "    <tr>\n",
              "      <th>1</th>\n",
              "      <td>2</td>\n",
              "      <td>B</td>\n",
              "      <td>9.013</td>\n",
              "      <td>52.292</td>\n",
              "      <td>2023-01-02</td>\n",
              "    </tr>\n",
              "    <tr>\n",
              "      <th>2</th>\n",
              "      <td>3</td>\n",
              "      <td>C</td>\n",
              "      <td>9.987</td>\n",
              "      <td>55.301</td>\n",
              "      <td>2023-01-03</td>\n",
              "    </tr>\n",
              "    <tr>\n",
              "      <th>3</th>\n",
              "      <td>4</td>\n",
              "      <td>B</td>\n",
              "      <td>9.591</td>\n",
              "      <td>42.953</td>\n",
              "      <td>2023-01-04</td>\n",
              "    </tr>\n",
              "    <tr>\n",
              "      <th>4</th>\n",
              "      <td>5</td>\n",
              "      <td>A</td>\n",
              "      <td>10.844</td>\n",
              "      <td>48.204</td>\n",
              "      <td>2023-01-05</td>\n",
              "    </tr>\n",
              "  </tbody>\n",
              "</table>\n",
              "</div>"
            ],
            "text/plain": [
              "   id category   value  value2       date\n",
              "0   1        C  11.608  57.601 2023-01-01\n",
              "1   2        B   9.013  52.292 2023-01-02\n",
              "2   3        C   9.987  55.301 2023-01-03\n",
              "3   4        B   9.591  42.953 2023-01-04\n",
              "4   5        A  10.844  48.204 2023-01-05"
            ]
          },
          "metadata": {},
          "output_type": "display_data"
        }
      ],
      "source": [
        "\n",
        "# Load dataset\n",
        "csv_path = DATA_DIR / \"starter_data.csv\"\n",
        "if not csv_path.exists():\n",
        "    rng = np.random.default_rng(42)\n",
        "    n = 200\n",
        "    df_syn = pd.DataFrame({\n",
        "        \"id\": np.arange(1, n + 1),\n",
        "        \"category\": rng.choice(list(\"ABC\"), size=n, p=[0.4, 0.35, 0.25]),\n",
        "        \"value\": rng.normal(loc=10.0, scale=2.5, size=n).round(3),\n",
        "        \"value2\": rng.normal(loc=50.0, scale=10.0, size=n).round(3),\n",
        "        \"date\": pd.date_range(\"2023-01-01\", periods=n, freq=\"D\"),\n",
        "    })\n",
        "    df_syn.to_csv(csv_path, index=False)\n",
        "    print(f\"Generated synthetic dataset at: {csv_path}\")\n",
        "\n",
        "df = pd.read_csv(csv_path, parse_dates=[\"date\"], dayfirst=False)\n",
        "print(\"Using dataset:\", csv_path)\n",
        "display(df.head())\n"
      ]
    },
    {
      "cell_type": "code",
      "execution_count": 7,
      "id": "62d84162",
      "metadata": {},
      "outputs": [
        {
          "data": {
            "text/html": [
              "<div>\n",
              "<style scoped>\n",
              "    .dataframe tbody tr th:only-of-type {\n",
              "        vertical-align: middle;\n",
              "    }\n",
              "\n",
              "    .dataframe tbody tr th {\n",
              "        vertical-align: top;\n",
              "    }\n",
              "\n",
              "    .dataframe thead th {\n",
              "        text-align: right;\n",
              "    }\n",
              "</style>\n",
              "<table border=\"1\" class=\"dataframe\">\n",
              "  <thead>\n",
              "    <tr style=\"text-align: right;\">\n",
              "      <th></th>\n",
              "      <th>count</th>\n",
              "      <th>mean</th>\n",
              "      <th>std</th>\n",
              "      <th>min</th>\n",
              "      <th>25%</th>\n",
              "      <th>50%</th>\n",
              "      <th>75%</th>\n",
              "      <th>max</th>\n",
              "    </tr>\n",
              "  </thead>\n",
              "  <tbody>\n",
              "    <tr>\n",
              "      <th>id</th>\n",
              "      <td>200.0</td>\n",
              "      <td>100.500000</td>\n",
              "      <td>57.879185</td>\n",
              "      <td>1.000</td>\n",
              "      <td>50.7500</td>\n",
              "      <td>100.500</td>\n",
              "      <td>150.25000</td>\n",
              "      <td>200.000</td>\n",
              "    </tr>\n",
              "    <tr>\n",
              "      <th>value</th>\n",
              "      <td>200.0</td>\n",
              "      <td>10.041025</td>\n",
              "      <td>2.543929</td>\n",
              "      <td>3.583</td>\n",
              "      <td>8.3065</td>\n",
              "      <td>10.132</td>\n",
              "      <td>11.59750</td>\n",
              "      <td>17.263</td>\n",
              "    </tr>\n",
              "    <tr>\n",
              "      <th>value2</th>\n",
              "      <td>200.0</td>\n",
              "      <td>49.421545</td>\n",
              "      <td>10.103758</td>\n",
              "      <td>20.355</td>\n",
              "      <td>42.3100</td>\n",
              "      <td>49.301</td>\n",
              "      <td>55.62575</td>\n",
              "      <td>75.977</td>\n",
              "    </tr>\n",
              "  </tbody>\n",
              "</table>\n",
              "</div>"
            ],
            "text/plain": [
              "        count        mean        std     min      25%      50%        75%  \\\n",
              "id      200.0  100.500000  57.879185   1.000  50.7500  100.500  150.25000   \n",
              "value   200.0   10.041025   2.543929   3.583   8.3065   10.132   11.59750   \n",
              "value2  200.0   49.421545  10.103758  20.355  42.3100   49.301   55.62575   \n",
              "\n",
              "            max  \n",
              "id      200.000  \n",
              "value    17.263  \n",
              "value2   75.977  "
            ]
          },
          "metadata": {},
          "output_type": "display_data"
        },
        {
          "name": "stdout",
          "output_type": "stream",
          "text": [
            "Groupby mean by 'category':\n"
          ]
        },
        {
          "data": {
            "text/html": [
              "<div>\n",
              "<style scoped>\n",
              "    .dataframe tbody tr th:only-of-type {\n",
              "        vertical-align: middle;\n",
              "    }\n",
              "\n",
              "    .dataframe tbody tr th {\n",
              "        vertical-align: top;\n",
              "    }\n",
              "\n",
              "    .dataframe thead th {\n",
              "        text-align: right;\n",
              "    }\n",
              "</style>\n",
              "<table border=\"1\" class=\"dataframe\">\n",
              "  <thead>\n",
              "    <tr style=\"text-align: right;\">\n",
              "      <th></th>\n",
              "      <th>id</th>\n",
              "      <th>value</th>\n",
              "      <th>value2</th>\n",
              "    </tr>\n",
              "    <tr>\n",
              "      <th>category</th>\n",
              "      <th></th>\n",
              "      <th></th>\n",
              "      <th></th>\n",
              "    </tr>\n",
              "  </thead>\n",
              "  <tbody>\n",
              "    <tr>\n",
              "      <th>A</th>\n",
              "      <td>105.886076</td>\n",
              "      <td>9.436316</td>\n",
              "      <td>48.926000</td>\n",
              "    </tr>\n",
              "    <tr>\n",
              "      <th>B</th>\n",
              "      <td>95.861111</td>\n",
              "      <td>10.376875</td>\n",
              "      <td>50.002347</td>\n",
              "    </tr>\n",
              "    <tr>\n",
              "      <th>C</th>\n",
              "      <td>98.632653</td>\n",
              "      <td>10.522469</td>\n",
              "      <td>49.367061</td>\n",
              "    </tr>\n",
              "  </tbody>\n",
              "</table>\n",
              "</div>"
            ],
            "text/plain": [
              "                  id      value     value2\n",
              "category                                  \n",
              "A         105.886076   9.436316  48.926000\n",
              "B          95.861111  10.376875  50.002347\n",
              "C          98.632653  10.522469  49.367061"
            ]
          },
          "metadata": {},
          "output_type": "display_data"
        },
        {
          "name": "stdout",
          "output_type": "stream",
          "text": [
            "Saved: /Users/panweihu/Desktop/Desktop_m1/NYU_mfe/bootcamp/camp4/bootcamp_bill_panwei_hu/homework/turtle_project/data/processed/summary.csv\n",
            "Saved: /Users/panweihu/Desktop/Desktop_m1/NYU_mfe/bootcamp/camp4/bootcamp_bill_panwei_hu/homework/turtle_project/data/processed/summary.json\n"
          ]
        },
        {
          "data": {
            "image/png": "[encoded data removed]",
            "text/plain": [
              "<Figure size 640x480 with 1 Axes>"
            ]
          },
          "metadata": {},
          "output_type": "display_data"
        },
        {
          "name": "stdout",
          "output_type": "stream",
          "text": [
            "Saved figure: /Users/panweihu/Desktop/Desktop_m1/NYU_mfe/bootcamp/camp4/bootcamp_bill_panwei_hu/homework/turtle_project/figures/basic_plot.png\n"
          ]
        }
      ],
      "source": [
        "\n",
        "# # Info\n",
        "# buf = []\n",
        "# df.info(buf=buf)\n",
        "# print(\"\\n\".join(str(x) for x in buf))\n",
        "\n",
        "# Summary statistics\n",
        "numeric_desc = df.select_dtypes(include=\"number\").describe().T\n",
        "display(numeric_desc)\n",
        "\n",
        "# Groupby\n",
        "if \"category\" in df.columns:\n",
        "    group_stats = df.groupby(\"category\").mean(numeric_only=True)\n",
        "    print(\"Groupby mean by 'category':\")\n",
        "    display(group_stats)\n",
        "else:\n",
        "    print(\"No 'category' column found; skipping groupby example.\")\n",
        "    group_stats = None\n",
        "\n",
        "# Save outputs\n",
        "summary_csv = PROCESSED_DIR / \"summary.csv\"\n",
        "summary_json = PROCESSED_DIR / \"summary.json\"\n",
        "numeric_desc.to_csv(summary_csv)\n",
        "numeric_desc.to_json(summary_json, orient=\"table\")\n",
        "print(\"Saved:\", summary_csv)\n",
        "print(\"Saved:\", summary_json)\n",
        "\n",
        "# Plot\n",
        "if \"date\" in df.columns and \"value\" in df.columns:\n",
        "    df_sorted = df.sort_values(\"date\")\n",
        "    plt.figure()\n",
        "    plt.plot(df_sorted[\"date\"], df_sorted[\"value\"], label=\"value over time\")\n",
        "    plt.xlabel(\"date\")\n",
        "    plt.ylabel(\"value\")\n",
        "    plt.title(\"Basic Plot of 'value' vs time\")\n",
        "    plt.legend()\n",
        "    fig_path = FIG_DIR / \"basic_plot.png\"\n",
        "    plt.savefig(fig_path, dpi=150, bbox_inches=\"tight\")\n",
        "    plt.show()\n",
        "    print(\"Saved figure:\", fig_path)\n",
        "else:\n",
        "    print(\"Missing 'date' or 'value' columns; skipping plot.\")\n"
      ]
    },
    {
      "cell_type": "code",
      "execution_count": 8,
      "id": "5ad79b19",
      "metadata": {},
      "outputs": [
        {
          "name": "stdout",
          "output_type": "stream",
          "text": [
            "Reusable function — describe() head:\n"
          ]
        },
        {
          "data": {
            "text/html": [
              "<div>\n",
              "<style scoped>\n",
              "    .dataframe tbody tr th:only-of-type {\n",
              "        vertical-align: middle;\n",
              "    }\n",
              "\n",
              "    .dataframe tbody tr th {\n",
              "        vertical-align: top;\n",
              "    }\n",
              "\n",
              "    .dataframe thead th {\n",
              "        text-align: right;\n",
              "    }\n",
              "</style>\n",
              "<table border=\"1\" class=\"dataframe\">\n",
              "  <thead>\n",
              "    <tr style=\"text-align: right;\">\n",
              "      <th></th>\n",
              "      <th>count</th>\n",
              "      <th>mean</th>\n",
              "      <th>std</th>\n",
              "      <th>min</th>\n",
              "      <th>25%</th>\n",
              "      <th>50%</th>\n",
              "      <th>75%</th>\n",
              "      <th>max</th>\n",
              "    </tr>\n",
              "  </thead>\n",
              "  <tbody>\n",
              "    <tr>\n",
              "      <th>id</th>\n",
              "      <td>200.0</td>\n",
              "      <td>100.500000</td>\n",
              "      <td>57.879185</td>\n",
              "      <td>1.000</td>\n",
              "      <td>50.7500</td>\n",
              "      <td>100.500</td>\n",
              "      <td>150.25000</td>\n",
              "      <td>200.000</td>\n",
              "    </tr>\n",
              "    <tr>\n",
              "      <th>value</th>\n",
              "      <td>200.0</td>\n",
              "      <td>10.041025</td>\n",
              "      <td>2.543929</td>\n",
              "      <td>3.583</td>\n",
              "      <td>8.3065</td>\n",
              "      <td>10.132</td>\n",
              "      <td>11.59750</td>\n",
              "      <td>17.263</td>\n",
              "    </tr>\n",
              "    <tr>\n",
              "      <th>value2</th>\n",
              "      <td>200.0</td>\n",
              "      <td>49.421545</td>\n",
              "      <td>10.103758</td>\n",
              "      <td>20.355</td>\n",
              "      <td>42.3100</td>\n",
              "      <td>49.301</td>\n",
              "      <td>55.62575</td>\n",
              "      <td>75.977</td>\n",
              "    </tr>\n",
              "  </tbody>\n",
              "</table>\n",
              "</div>"
            ],
            "text/plain": [
              "        count        mean        std     min      25%      50%        75%  \\\n",
              "id      200.0  100.500000  57.879185   1.000  50.7500  100.500  150.25000   \n",
              "value   200.0   10.041025   2.543929   3.583   8.3065   10.132   11.59750   \n",
              "value2  200.0   49.421545  10.103758  20.355  42.3100   49.301   55.62575   \n",
              "\n",
              "            max  \n",
              "id      200.000  \n",
              "value    17.263  \n",
              "value2   75.977  "
            ]
          },
          "metadata": {},
          "output_type": "display_data"
        },
        {
          "name": "stdout",
          "output_type": "stream",
          "text": [
            "Reusable function — groupby means:\n"
          ]
        },
        {
          "data": {
            "text/html": [
              "<div>\n",
              "<style scoped>\n",
              "    .dataframe tbody tr th:only-of-type {\n",
              "        vertical-align: middle;\n",
              "    }\n",
              "\n",
              "    .dataframe tbody tr th {\n",
              "        vertical-align: top;\n",
              "    }\n",
              "\n",
              "    .dataframe thead th {\n",
              "        text-align: right;\n",
              "    }\n",
              "</style>\n",
              "<table border=\"1\" class=\"dataframe\">\n",
              "  <thead>\n",
              "    <tr style=\"text-align: right;\">\n",
              "      <th></th>\n",
              "      <th>id</th>\n",
              "      <th>value</th>\n",
              "      <th>value2</th>\n",
              "    </tr>\n",
              "    <tr>\n",
              "      <th>category</th>\n",
              "      <th></th>\n",
              "      <th></th>\n",
              "      <th></th>\n",
              "    </tr>\n",
              "  </thead>\n",
              "  <tbody>\n",
              "    <tr>\n",
              "      <th>A</th>\n",
              "      <td>105.886076</td>\n",
              "      <td>9.436316</td>\n",
              "      <td>48.926000</td>\n",
              "    </tr>\n",
              "    <tr>\n",
              "      <th>B</th>\n",
              "      <td>95.861111</td>\n",
              "      <td>10.376875</td>\n",
              "      <td>50.002347</td>\n",
              "    </tr>\n",
              "    <tr>\n",
              "      <th>C</th>\n",
              "      <td>98.632653</td>\n",
              "      <td>10.522469</td>\n",
              "      <td>49.367061</td>\n",
              "    </tr>\n",
              "  </tbody>\n",
              "</table>\n",
              "</div>"
            ],
            "text/plain": [
              "                  id      value     value2\n",
              "category                                  \n",
              "A         105.886076   9.436316  48.926000\n",
              "B          95.861111  10.376875  50.002347\n",
              "C          98.632653  10.522469  49.367061"
            ]
          },
          "metadata": {},
          "output_type": "display_data"
        }
      ],
      "source": [
        "# Function\n",
        "def get_summary_stats(df: pd.DataFrame, groupby_col: str | None = None) -> dict:\n",
        "    desc = df.select_dtypes(include=\"number\").describe().T\n",
        "    grp = None\n",
        "    if groupby_col and groupby_col in df.columns:\n",
        "        grp = df.groupby(groupby_col).mean(numeric_only=True)\n",
        "    return {\"describe\": desc, \"groupby\": grp}\n",
        "\n",
        "res = get_summary_stats(df, groupby_col=\"category\" if \"category\" in df.columns else None)\n",
        "print(\"Reusable function — describe() head:\")\n",
        "display(res[\"describe\"].head())\n",
        "if res[\"groupby\"] is not None:\n",
        "    print(\"Reusable function — groupby means:\")\n",
        "    display(res[\"groupby\"])\n"
      ]
    },
    {
      "cell_type": "markdown",
      "id": "46557fcd",
      "metadata": {},
      "source": [
        "## Importing functions from src/utils"
      ]
    },
    {
      "cell_type": "code",
      "execution_count": 11,
      "id": "d4749c00",
      "metadata": {},
      "outputs": [
        {
          "name": "stdout",
          "output_type": "stream",
          "text": [
            "Added to sys.path: /Users/panweihu/Desktop/Desktop_m1/NYU_mfe/bootcamp/camp4/bootcamp_bill_panwei_hu/homework/turtle_project/src\n"
          ]
        }
      ],
      "source": [
        "import sys\n",
        "from pathlib import Path\n",
        "\n",
        "# Add ./project_name/src to sys.path\n",
        "sys.path.append( PROJECT_ROOT / \"src\")\n",
        "sys.path.insert(0, PROJECT_ROOT / \"src\")\n",
        "print(\"Added to sys.path:\", PROJECT_ROOT / \"src\")\n"
      ]
    },
    {
      "cell_type": "code",
      "execution_count": 16,
      "id": "3d44b431",
      "metadata": {},
      "outputs": [],
      "source": [
        "sys.path.insert(0, str(Path.cwd() / \"turtle_project\"))"
      ]
    },
    {
      "cell_type": "code",
      "execution_count": 17,
      "id": "0f7ee97f",
      "metadata": {},
      "outputs": [
        {
          "name": "stdout",
          "output_type": "stream",
          "text": [
            "{'describe':    count  mean  std  min  25%  50%  75%  max\n",
            "a    3.0   2.0  1.0  1.0  1.5  2.0  2.5  3.0, 'groupby': None}\n"
          ]
        }
      ],
      "source": [
        "from src.utils import get_summary_stats\n",
        "\n",
        "# Example usage\n",
        "import pandas as pd\n",
        "df = pd.DataFrame({\"a\": [1, 2, 3]})\n",
        "print(get_summary_stats(df))"
      ]
    }
  ],
  "metadata": {
    "kernelspec": {
      "display_name": "bootcamp_env",
      "language": "python",
      "name": "python3"
    },
    "language_info": {
      "codemirror_mode": {
        "name": "ipython",
        "version": 3
      },
      "file_extension": ".py",
      "mimetype": "text/x-python",
      "name": "python",
      "nbconvert_exporter": "python",
      "pygments_lexer": "ipython3",
      "version": "3.10.18"
    }
  },
  "nbformat": 4,
  "nbformat_minor": 5
}
