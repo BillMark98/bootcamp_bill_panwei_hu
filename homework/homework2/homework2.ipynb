{
 "cells": [
  {
   "cell_type": "markdown",
   "id": "44ae420d",
   "metadata": {},
   "source": [
    "# Environment & Config Check"
   ]
  },
  {
   "cell_type": "code",
   "execution_count": 3,
   "id": "38992300",
   "metadata": {},
   "outputs": [
    {
     "name": "stdout",
     "output_type": "stream",
     "text": [
      "Imports OK\n"
     ]
    }
   ],
   "source": [
    "try:\n",
    "    import numpy as np\n",
    "    from dotenv import load_dotenv\n",
    "    print(\"Imports OK\")\n",
    "    \n",
    "except Exception as e:\n",
    "    print(\"Import error:\", e)\n",
    "    raise"
   ]
  },
  {
   "cell_type": "markdown",
   "id": "fbbf9417",
   "metadata": {},
   "source": [
    "# Test load .env file"
   ]
  },
  {
   "cell_type": "code",
   "execution_count": 1,
   "id": "0e1fed8d",
   "metadata": {},
   "outputs": [
    {
     "name": "stdout",
     "output_type": "stream",
     "text": [
      "PROJECT_ROOT: /Users/panweihu/Desktop/Desktop_m1/NYU_mfe/bootcamp/camp4/bootcamp_bill_panwei_hu/homework/homework2\n",
      "DATA_DIR: /Users/panweihu/Desktop/Desktop_m1/NYU_mfe/bootcamp/camp4/bootcamp_bill_panwei_hu/homework/homework2/data\n"
     ]
    }
   ],
   "source": [
    "# src/config.py (inline demo)\n",
    "from typing import Optional\n",
    "import os\n",
    "from pathlib import Path\n",
    "\n",
    "def get_key(name: str, default: Optional[str] = None) -> Optional[str]:\n",
    "    return os.getenv(name, default)\n",
    "\n",
    "PROJECT_ROOT = Path.cwd()\n",
    "DATA_DIR = PROJECT_ROOT / \"data\"\n",
    "print(\"PROJECT_ROOT:\", PROJECT_ROOT)\n",
    "print(\"DATA_DIR:\", DATA_DIR)"
   ]
  },
  {
   "cell_type": "code",
   "execution_count": 4,
   "id": "201134ed",
   "metadata": {},
   "outputs": [
    {
     "name": "stdout",
     "output_type": "stream",
     "text": [
      ".env file path: /Users/panweihu/Desktop/Desktop_m1/NYU_mfe/bootcamp/camp4/bootcamp_bill_panwei_hu/homework/homework2/.env\n",
      ".env loaded (if present)\n",
      "API_KEY present: True\n",
      "DATA_DIR from env: ./data\n",
      "Ensured data directory exists.\n"
     ]
    }
   ],
   "source": [
    "from pathlib import Path\n",
    "print(\".env file path:\", Path('.env').absolute())\n",
    "\n",
    "load_dotenv()  # looks for a .env file in the current and parent directories\n",
    "print(\".env loaded (if present)\")\n",
    "api_key_present = get_key(\"API_KEY\") is not None\n",
    "data_dir_env = get_key(\"DATA_DIR\", str(DATA_DIR))\n",
    "print(\"API_KEY present:\", api_key_present)\n",
    "print(\"DATA_DIR from env:\", data_dir_env)\n",
    "\n",
    "# Ensure data directory exists (non-destructive)\n",
    "Path(data_dir_env).mkdir(parents=True, exist_ok=True)\n",
    "print(\"Ensured data directory exists.\")\n"
   ]
  },
  {
   "cell_type": "markdown",
   "id": "56e7287f",
   "metadata": {},
   "source": [
    "## Numpy mini demo"
   ]
  },
  {
   "cell_type": "code",
   "execution_count": 5,
   "id": "efd56b2c",
   "metadata": {},
   "outputs": [
    {
     "name": "stdout",
     "output_type": "stream",
     "text": [
      "Array: [1 2 3 4 5]\n",
      "Mean: 3.0\n",
      "Vectorized * 10: [10 20 30 40 50]\n"
     ]
    }
   ],
   "source": [
    "arr = np.array([1, 2, 3, 4, 5])\n",
    "print(\"Array:\", arr)\n",
    "print(\"Mean:\", arr.mean())\n",
    "print(\"Vectorized * 10:\", arr * 10)"
   ]
  },
  {
   "cell_type": "code",
   "execution_count": null,
   "id": "9a12bc38",
   "metadata": {},
   "outputs": [],
   "source": []
  }
 ],
 "metadata": {
  "kernelspec": {
   "display_name": "mfe_bootcamp",
   "language": "python",
   "name": "python3"
  },
  "language_info": {
   "codemirror_mode": {
    "name": "ipython",
    "version": 3
   },
   "file_extension": ".py",
   "mimetype": "text/x-python",
   "name": "python",
   "nbconvert_exporter": "python",
   "pygments_lexer": "ipython3",
   "version": "3.11.13"
  }
 },
 "nbformat": 4,
 "nbformat_minor": 5
}
