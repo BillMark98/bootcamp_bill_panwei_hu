{
  "cells": [
    {
      "cell_type": "markdown",
      "metadata": {},
      "source": [
        "# Stage 01 — Problem Framing & Scoping (Lecture Notebook)\n",
        "**Date:** Aug 14 (Thursday) (A)\n",
        "\n",
        "### Objectives\n",
        "- Define a real-world financial/business problem.\n",
        "- Identify the end-user and their needs.\n",
        "- Determine if the goal is descriptive, predictive, or causal.\n",
        "- Clarify assumptions and constraints.\n",
        "- Begin designing the modeling workflow and repo structure."
      ]
    },
    {
      "cell_type": "markdown",
      "metadata": {},
      "source": [
        "## Lifecycle Context\n",
        "This stage anchors the entire project: we connect stakeholder needs to technical deliverables and set up a minimal, usable repository."
      ]
    },
    {
      "cell_type": "markdown",
      "metadata": {},
      "source": [
        "## Mini Case — ETF Strategy\n",
        "> PM asks: *“Does Turtle Trading still work in Today's Market”*\n",
        "\n",
        "**Discuss:**\n",
        "- **Assumptions:** stationarity, liquidity, transaction costs, capacity.\n",
        "- **Missing Info:** benchmark, horizon, evaluation metric, constraints.\n",
        "- **Useful Answer:** forecast & risk bands; scenario notes; clear decision trigger."
      ]
    },
    {
      "cell_type": "code",
      "execution_count": 1,
      "metadata": {},
      "outputs": [
        {
          "data": {
            "text/plain": [
              "PosixPath('/Users/panweihu/Desktop/Desktop_m1/NYU_mfe/bootcamp/camp4/bootcamp_bill_panwei_hu/homework/turtle_project/README.md')"
            ]
          },
          "execution_count": 1,
          "metadata": {},
          "output_type": "execute_result"
        }
      ],
      "source": [
        "# Repo Skeleton Demo — run locally to scaffold your project\n",
        "import os, textwrap, pathlib\n",
        "\n",
        "REPO_NAME = \"turtle_project\"  # change as desired\n",
        "FOLDERS = [\"data\", \"src\", \"notebooks\", \"docs\"]\n",
        "\n",
        "base = pathlib.Path.cwd() / REPO_NAME\n",
        "base.mkdir(exist_ok=True)\n",
        "for f in FOLDERS:\n",
        "    (base / f).mkdir(parents=True, exist_ok=True)\n",
        "\n",
        "README_TEMPLATE = textwrap.dedent(\"\"\"\n",
        "# Does Turtle Trading Still Work in Today’s Markets?\n",
        "**Stage:** Problem Framing & Scoping (Stage 01)\n",
        "\n",
        "---\n",
        "\n",
        "## Problem Statement\n",
        "We aim to determine whether the classic **Turtle Trading** (breakout trend-following) rules generate **robust, net-of-cost** excess returns in current markets. The core question: *Does a Donchian-channel breakout system with risk-based position sizing still deliver attractive risk-adjusted performance after realistic costs and modern competition, or has the edge been arbitraged away?*\n",
        "\n",
        "The study will replicate and modernize the Turtle approach across a diversified, liquid multi-asset universe (e.g., major futures/FX or ETF proxies), evaluate performance from the early 2000s through 2025, and stress-test stability across market regimes (pre/post-2008, QE/ZIRP, COVID, 2022–2023 inflationary regime, 2024–2025). Outcomes will inform a **go / modify / no-go** decision for deploying a trend-following sleeve.\n",
        "\n",
        "---\n",
        "\n",
        "## Stakeholder & User\n",
        "- **Primary stakeholder / decision-maker:** Portfolio Manager (PM) or personal trading lead deciding whether to allocate capital to a rules-based trend-following sleeve.\n",
        "- **End users:** \n",
        "  - **Quant researcher** (builds data pipeline/backtests, reports results).\n",
        "  - **Risk manager** (assesses drawdowns, correlation to existing book, tail risk).\n",
        "- **Workflow context & timing:** Initial research sprint (1–2 weeks of prototyping), followed by validation and a small paper-trade phase before any live deployment.\n",
        "\n",
        "---\n",
        "\n",
        "## Useful Answer & Decision\n",
        "- **Type of answer:** Primarily **descriptive** (historical performance) with **predictive lean** via walk-forward and regime analysis; no causal identification required.\n",
        "- **Decision framing:** \n",
        "  - **GO** if the strategy shows **out-of-sample** and **recent-period** net Sharpe above threshold, controlled drawdowns, and low correlation to existing exposures.  \n",
        "  - **MODIFY** if edge exists but is parameter-sensitive, capacity-limited, or overly cyclical.  \n",
        "  - **NO-GO** if results are not robust net of costs or degrade materially in recent years.\n",
        "- **Key metrics (net of costs):**\n",
        "  - Annualized return/volatility, **Sharpe**, **Sortino**, **Calmar**, **max drawdown**, **hit rate**, **profit factor**.\n",
        "  - **Turnover**, average holding period, slippage sensitivity, **capacity proxy** (ADV %, notional scaling).\n",
        "  - **Rolling** (36–60m) Sharpe, **t-stat** of excess returns, **regime** breakdown, correlation to equities, rates, commodities, FX carry/value/momo.\n",
        "  - **Stability**: parameter sweep heatmaps, walk-forward curves, SPA/White’s Reality Check style sanity tests (bootstrap resampling).\n",
        "\n",
        "---\n",
        "\n",
        "## Assumptions & Constraints\n",
        "- **Data availability:** Daily (or higher) prices for a diversified, liquid set of futures (or ETF proxies if futures not available). Continuous futures with transparent **roll methodology** (back-adjusted or panama-adjusted). FX spot/rolling futures where applicable.\n",
        "- **Trading frictions:** Commission + fees + **slippage**; model as (a) % of price for ETFs or (b) **ticks** for futures. Include spreads and conservative impact for fast markets.\n",
        "- **Execution model:** End-of-day signals; next-day open or close execution; no leverage beyond policy (e.g., risk parity scaling within margin limits).\n",
        "- **Risk constraints:** Unit risk via **ATR-based** position sizing; per-instrument and portfolio-level risk caps; diversification across asset classes.\n",
        "- **Compliance:** Research-only; no live trading implied; adhere to data licenses.\n",
        "\n",
        "---\n",
        "\n",
        "## Known Unknowns / Risks\n",
        "- **Regime non-stationarity:** Trend premia may wax/wane; 2010s vs 2020s behavior can differ.\n",
        "- **Overfitting & multiple testing:** Parameter sweeps inflate false positives; control with **walk-forward**, **nested CV**, and **reality checks**.\n",
        "- **Cost mis-estimation:** Understated slippage/spreads can turn gross edge into net loss.\n",
        "- **Roll & contract selection:** Different continuous futures methods materially change PnL.\n",
        "- **Capacity & crowding:** Diminishing returns at scale; correlation spikes in stress.\n",
        "- **Proxy risk:** ETF substitutes may introduce tracking and borrow constraints.\n",
        "\n",
        "---\n",
        "\n",
        "## Success Criteria (Net of Costs)\n",
        "- **Primary:** Rolling 3–5y **Sharpe ≥ 0.6** recently (2020–2025), **max DD ≤ 25%**, and **low/moderate correlation** to equities (< 0.3).\n",
        "- **Robustness:** Consistent performance across parameter grids (e.g., 20/55 and neighbors), instruments, and regimes; limited degradation under higher slippage.\n",
        "- **Stability:** Out-of-sample (holdout / walk-forward) maintains **SR ≥ 0.4–0.5** with similar drawdown/risk profile.\n",
        "- **Actionability:** Clear risk budget, capital deployment sizing, and monitoring plan.\n",
        "\n",
        "---\n",
        "\n",
        "## Approach & Methods (High-Level)\n",
        "- **Rules to test:**\n",
        "  - **Entries:** N-day **Donchian channel** breakouts (e.g., 20/55), optional filter (long-term trend or volatility regime).\n",
        "  - **Exits:** Opposite breakout (N/2), or trailing stop; optional time-based stop.\n",
        "  - **Sizing:** **ATR(20)** or similar risk targeting to equalize unit risk across assets.\n",
        "  - **Portfolio:** Equal risk contribution with per-asset and per-sector caps.\n",
        "- **Validation workflow:**\n",
        "  1. Clean & stitch data; define continuous contracts/ETF proxies and calendars.\n",
        "  2. Implement baseline Turtle rules; verify against known references on a small subset.\n",
        "  3. **Parameter sweeps** with proper train/validation splits; **walk-forward** evaluation.\n",
        "  4. **Cost sensitivity** analysis; stress tests (gaps, volatility clusters, thin liquidity days).\n",
        "  5. **Attribution:** by asset, asset-class, regime; correlation to major risk premia.\n",
        "  6. **Robustness checks:** bootstrapping, White’s SPA/Reality Check style tests.\n",
        "\n",
        "---\n",
        "\n",
        "## Lifecycle Mapping (Goal → Stage → Deliverable)\n",
        "- Confirm viability of Turtle trend-following today → **Stage 01: Framing** → This README + plan.\n",
        "- Acquire & validate data; define roll rules → **Stage 02: Data & EDA** → Data dictionary, QC report.\n",
        "- Implement baseline & sweeps → **Stage 03: Modeling/Backtest** → Backtest notebook, results CSVs.\n",
        "- Validate & stress test; costs/capacity → **Stage 04: Validation** → Robustness report, plots.\n",
        "- Summarize & recommend → **Stage 05: Reporting** → Slide/memo with **GO/MODIFY/NO-GO**.\n",
        "\n",
        "---\n",
        "\n",
        "## Repo Plan\n",
        "\n",
        "## Repo Plan\n",
        "/data/, /src/, /notebooks/, /docs/ ; cadence for updates\n",
        "\"\"\")\n",
        "\n",
        "readme_path = base / \"README.md\"\n",
        "if not readme_path.exists():\n",
        "    readme_path.write_text(README_TEMPLATE, encoding=\"utf-8\")\n",
        "readme_path.resolve()"
      ]
    }
  ],
  "metadata": {
    "kernelspec": {
      "display_name": "bootcamp_env",
      "language": "python",
      "name": "python3"
    },
    "language_info": {
      "codemirror_mode": {
        "name": "ipython",
        "version": 3
      },
      "file_extension": ".py",
      "mimetype": "text/x-python",
      "name": "python",
      "nbconvert_exporter": "python",
      "pygments_lexer": "ipython3",
      "version": "3.10.18"
    }
  },
  "nbformat": 4,
  "nbformat_minor": 5
}
