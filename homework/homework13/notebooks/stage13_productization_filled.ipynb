{
 "cells": [
  {
   "cell_type": "markdown",
   "id": "69a786b3",
   "metadata": {},
   "source": [
    "\n",
    "# Stage 13 — Productization (Filled Notebook)\n",
    "\n",
    "This notebook is **self-contained** and writes files into a local folder named `stage13_repo/` (relative to the notebook).\n",
    "Run cells top-to-bottom to create:\n",
    "- `src/model_utils.py` (modular code)\n",
    "- `model/model.pkl` (pickled model)\n",
    "- `app.py` (Flask API: POST/GET endpoints + `/plot`)\n",
    "- `requirements.txt`, `README.md`, `reports/stakeholder_summary.md`\n",
    "\n",
    "Then test the API using `curl` or the optional Python `requests` snippet below.\n"
   ]
  },
  {
   "cell_type": "code",
   "execution_count": 2,
   "id": "8c01ae0d",
   "metadata": {},
   "outputs": [
    {
     "name": "stdout",
     "output_type": "stream",
     "text": [
      "Wrote src/model_utils.py\n"
     ]
    }
   ],
   "source": [
    "\n",
    "# 1) Create repo structure + modular utils\n",
    "from pathlib import Path\n",
    "import os\n",
    "REPO = Path(\"./\")\n",
    "\n",
    "# REPO = Path(\"stage13_repo\")\n",
    "for sub in [\"src\",\"model\",\"notebooks\",\"reports\",\"data\"]:\n",
    "    (REPO/sub).mkdir(parents=True, exist_ok=True)\n",
    "\n",
    "(SRC := REPO/\"src\").joinpath(\"model_utils.py\").write_text(\n",
    "    \"import numpy as np\\n\"\n",
    "    \"from sklearn.linear_model import LinearRegression\\n\\n\"\n",
    "    \"def train_model(X, y):\\n\"\n",
    "    \"    model = LinearRegression()\\n\"\n",
    "    \"    model.fit(X, y)\\n\"\n",
    "    \"    return model\\n\\n\"\n",
    "    \"def predict_model(model, X):\\n\"\n",
    "    \"    return model.predict(X)\\n\",\n",
    "    encoding=\"utf-8\"\n",
    ")\n",
    "print(\"Wrote\", REPO/\"src/model_utils.py\")\n"
   ]
  },
  {
   "cell_type": "code",
   "execution_count": 3,
   "id": "b688cc6f",
   "metadata": {},
   "outputs": [
    {
     "name": "stdout",
     "output_type": "stream",
     "text": [
      "Saved model to stage13_repo/model/model.pkl\n"
     ]
    }
   ],
   "source": [
    "\n",
    "# 2) Train and pickle a tiny demo model\n",
    "import numpy as np, pickle\n",
    "from sklearn.linear_model import LinearRegression\n",
    "\n",
    "X = np.array([[1],[2],[3],[4],[5]])\n",
    "y = np.array([2,4,6,8,10])\n",
    "model = LinearRegression().fit(X,y)\n",
    "\n",
    "with open(REPO/\"model/model.pkl\",\"wb\") as f:\n",
    "    pickle.dump(model, f)\n",
    "print(\"Saved model to stage13_repo/model/model.pkl\")\n"
   ]
  },
  {
   "cell_type": "code",
   "execution_count": 4,
   "id": "ceaecd29",
   "metadata": {},
   "outputs": [
    {
     "name": "stdout",
     "output_type": "stream",
     "text": [
      "Prediction for [[6]]: [12.000000000000002]\n"
     ]
    }
   ],
   "source": [
    "\n",
    "# 3) Reload the pickle and test prediction\n",
    "import pickle\n",
    "with open(REPO / \"model/model.pkl\",\"rb\") as f:\n",
    "    reloaded = pickle.load(f)\n",
    "print(\"Prediction for [[6]]:\", reloaded.predict([[6]]).tolist())\n"
   ]
  },
  {
   "cell_type": "code",
   "execution_count": 5,
   "id": "1fd35761",
   "metadata": {},
   "outputs": [
    {
     "name": "stdout",
     "output_type": "stream",
     "text": [
      "Wrote app.py\n"
     ]
    }
   ],
   "source": [
    "\n",
    "# 4) Write Flask API (app.py)\n",
    "from pathlib import Path\n",
    "(Path(\"stage13_repo\")/\"app.py\").write_text(\n",
    "    \"from flask import Flask, request, jsonify, send_file\\n\"\n",
    "    \"import pickle, numpy as np, matplotlib.pyplot as plt\\n\"\n",
    "    \"from pathlib import Path\\n\\n\"\n",
    "    \"app = Flask(__name__)\\n\\n\"\n",
    "    \"with open('model/model.pkl','rb') as f:\\n\"\n",
    "    \"    model = pickle.load(f)\\n\\n\"\n",
    "    \"@app.route('/predict', methods=['POST'])\\n\"\n",
    "    \"def predict_post():\\n\"\n",
    "    \"    data = request.get_json()\\n\"\n",
    "    \"    if not data or 'features' not in data:\\n\"\n",
    "    \"        return jsonify({'error':'Missing \\'features\\' key'}), 400\\n\"\n",
    "    \"    try:\\n\"\n",
    "    \"        X = np.array(data['features'])\\n\"\n",
    "    \"        preds = model.predict(X).tolist()\\n\"\n",
    "    \"        return jsonify({'predictions': preds})\\n\"\n",
    "    \"    except Exception as e:\\n\"\n",
    "    \"        return jsonify({'error': str(e)}), 400\\n\\n\"\n",
    "    \"@app.route('/predict/<float:x>', methods=['GET'])\\n\"\n",
    "    \"def predict_get1(x):\\n\"\n",
    "    \"    try:\\n\"\n",
    "    \"        pred = model.predict([[x]]).tolist()\\n\"\n",
    "    \"        return jsonify({'prediction': pred})\\n\"\n",
    "    \"    except Exception as e:\\n\"\n",
    "    \"        return jsonify({'error': str(e)}), 400\\n\\n\"\n",
    "    \"@app.route('/predict/<float:x>/<float:y>', methods=['GET'])\\n\"\n",
    "    \"def predict_get2(x, y):\\n\"\n",
    "    \"    try:\\n\"\n",
    "    \"        pred = model.predict([[x+y]]).tolist()\\n\"\n",
    "    \"        return jsonify({'prediction': pred})\\n\"\n",
    "    \"    except Exception as e:\\n\"\n",
    "    \"        return jsonify({'error': str(e)}), 400\\n\\n\"\n",
    "    \"@app.route('/plot', methods=['GET'])\\n\"\n",
    "    \"def plot():\\n\"\n",
    "    \"    xs = np.linspace(0, 10, 50).reshape(-1,1)\\n\"\n",
    "    \"    ys = model.predict(xs)\\n\"\n",
    "    \"    plt.figure()\\n\"\n",
    "    \"    plt.plot(xs, ys, label='Prediction')\\n\"\n",
    "    \"    plt.legend(); plt.xlabel('x'); plt.ylabel('y')\\n\"\n",
    "    \"    img_path = Path('reports/plot.png')\\n\"\n",
    "    \"    img_path.parent.mkdir(parents=True, exist_ok=True)\\n\"\n",
    "    \"    plt.savefig(img_path)\\n\"\n",
    "    \"    return send_file(img_path, mimetype='image/png')\\n\\n\"\n",
    "    \"if __name__ == '__main__':\\n\"\n",
    "    \"    app.run(debug=True)\\n\",\n",
    "    encoding=\"utf-8\"\n",
    ")\n",
    "print(\"Wrote\", REPO / \"app.py\")\n"
   ]
  },
  {
   "cell_type": "code",
   "execution_count": 6,
   "id": "f925ce7b",
   "metadata": {},
   "outputs": [
    {
     "name": "stdout",
     "output_type": "stream",
     "text": [
      "Wrote requirements.txt and README.md\n"
     ]
    }
   ],
   "source": [
    "\n",
    "# 5) requirements.txt + README.md\n",
    "from pathlib import Path\n",
    "Path(REPO / \"requirements.txt\").write_text(\n",
    "    \"flask\\nscikit-learn\\nmatplotlib\\nnumpy\\npandas\\nrequests\\n\",\n",
    "    encoding=\"utf-8\"\n",
    ")\n",
    "Path(REPO / \"README.md\").write_text(\n",
    "    \"# Stage 13 — Productization Demo\\n\\n\"\n",
    "    \"## How to run\\n\"\n",
    "    \"1) pip install -r requirements.txt\\n\"\n",
    "    \"2) python app.py  # starts API at http://127.0.0.1:5000\\n\\n\"\n",
    "    \"## Endpoints\\n\"\n",
    "    \"- POST /predict  (JSON: {\\\"features\\\": [[value]]})\\n\"\n",
    "    \"- GET  /predict/<x>\\n\"\n",
    "    \"- GET  /predict/<x>/<y>\\n\"\n",
    "    \"- GET  /plot  (returns PNG)\\n\",\n",
    "    encoding=\"utf-8\"\n",
    ")\n",
    "print(\"Wrote requirements.txt and README.md\")\n"
   ]
  },
  {
   "cell_type": "code",
   "execution_count": 7,
   "id": "24cf2d8d",
   "metadata": {},
   "outputs": [
    {
     "name": "stdout",
     "output_type": "stream",
     "text": [
      "Wrote reports/stakeholder_summary.md\n"
     ]
    }
   ],
   "source": [
    "\n",
    "# 6) Stakeholder summary\n",
    "from pathlib import Path\n",
    "Path('stage13_repo/reports/stakeholder_summary.md').write_text(\n",
    "    \"# Stakeholder Summary\\n\\n\"\n",
    "    \"**Objective:** Minimal, handoff-ready productization pipeline.\\n\\n\"\n",
    "    \"**Result:** Model trained, pickled, served via Flask API (with simple validation) and a plot endpoint.\\n\\n\"\n",
    "    \"**Assumptions:** Linear baseline suffices for demo.\\n\\n\"\n",
    "    \"**Risks:** No auth; minimal error handling.\\n\\n\"\n",
    "    \"**Next Steps:** Add tests, logging, auth; containerize; CI/CD.\\n\",\n",
    "    encoding=\"utf-8\"\n",
    ")\n",
    "print(\"Wrote reports/stakeholder_summary.md\")\n"
   ]
  },
  {
   "cell_type": "markdown",
   "id": "1817b632",
   "metadata": {},
   "source": [
    "\n",
    "## 7) API testing\n",
    "\n",
    "Open a terminal in the `stage13_repo/` folder and run:\n",
    "```bash\n",
    "pip install -r requirements.txt\n",
    "python app.py\n",
    "```\n",
    "\n",
    "Then in another terminal:\n",
    "```bash\n",
    "curl -s -X POST http://127.0.0.1:5000/predict   -H \"Content-Type: application/json\"   -d '{ \"features\": [[6]] }'\n",
    "\n",
    "curl -s http://127.0.0.1:5000/predict/7\n",
    "curl -s http://127.0.0.1:5000/predict/3/4\n",
    "curl -s -o plot.png http://127.0.0.1:5000/plot\n",
    "```\n",
    "(Optional) Python `requests` smoke test (will fail gracefully if API isn't running).\n"
   ]
  },
  {
   "cell_type": "code",
   "execution_count": 8,
   "id": "6d6637d3",
   "metadata": {},
   "outputs": [
    {
     "name": "stdout",
     "output_type": "stream",
     "text": [
      "POST http://127.0.0.1:5000/predict -> 200 {\n",
      "  \"predictions\": [\n",
      "    12.000000000000002\n",
      "  ]\n",
      "}\n",
      " ...\n",
      "GET http://127.0.0.1:5000/predict/7 -> 404 <!doctype html>\n",
      "<html lang=en>\n",
      "<title>404 Not Found</title>\n",
      "<h1>Not Found</h1>\n",
      "<p>The requested URL was not found on the ...\n"
     ]
    }
   ],
   "source": [
    "\n",
    "# Optional: Python requests smoke test\n",
    "import requests\n",
    "for method, url, payload in [\n",
    "    (\"POST\", \"http://127.0.0.1:5000/predict\", {\"features\": [[6]]}),\n",
    "    (\"GET\",  \"http://127.0.0.1:5000/predict/7\", None),\n",
    "]:\n",
    "    try:\n",
    "        if method == \"POST\":\n",
    "            r = requests.post(url, json=payload, timeout=2)\n",
    "        else:\n",
    "            r = requests.get(url, timeout=2)\n",
    "        print(method, url, \"->\", r.status_code, r.text[:120], \"...\")\n",
    "    except Exception as e:\n",
    "        print(method, url, \"-> API not reachable (which is fine for now):\", e)\n"
   ]
  },
  {
   "cell_type": "markdown",
   "id": "f1340c59",
   "metadata": {},
   "source": [
    "\n",
    "## 8) Deliverables checklist (Stage 13)\n",
    "- Repo folder: `stage13_repo/` (created locally by this notebook)  \n",
    "- Modular code: `src/model_utils.py`  \n",
    "- Model persisted: `model/model.pkl` (+ reload demo)  \n",
    "- API file: `app.py` (POST/GET/plot)  \n",
    "- Reproducibility: `requirements.txt`  \n",
    "- Stakeholder summary: `reports/stakeholder_summary.md`  \n",
    "- README with instructions: `README.md`  \n",
    "\n",
    "> Submit this **notebook** plus the `stage13_repo/` folder (zipped) per your course instructions.\n"
   ]
  }
 ],
 "metadata": {
  "kernelspec": {
   "display_name": "mfe_bootcamp",
   "language": "python",
   "name": "python3"
  },
  "language_info": {
   "codemirror_mode": {
    "name": "ipython",
    "version": 3
   },
   "file_extension": ".py",
   "mimetype": "text/x-python",
   "name": "python",
   "nbconvert_exporter": "python",
   "pygments_lexer": "ipython3",
   "version": "3.11.13"
  }
 },
 "nbformat": 4,
 "nbformat_minor": 5
}
